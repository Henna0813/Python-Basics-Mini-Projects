{
 "cells": [
  {
   "cell_type": "code",
   "execution_count": 1,
   "id": "a10179a2-e215-48eb-b109-27b4ee0e9bcf",
   "metadata": {},
   "outputs": [
    {
     "name": "stdout",
     "output_type": "stream",
     "text": [
      "1 \n",
      "1 2 \n",
      "1 2 3 \n",
      "1 2 3 4 \n",
      "1 2 3 4 5 \n"
     ]
    }
   ],
   "source": [
    "n = 5\n",
    "for i in range (1, n + 1):\n",
    "    for j in range(1, i + 1):\n",
    "        print (j, end=\" \")\n",
    "    print()"
   ]
  },
  {
   "cell_type": "code",
   "execution_count": 22,
   "id": "0dc5d898-9f36-415e-b5e3-e8e575b7d604",
   "metadata": {},
   "outputs": [
    {
     "name": "stdout",
     "output_type": "stream",
     "text": [
      "    * \n",
      "    * * \n",
      "    * * * \n",
      "    * * * * \n",
      "    * * * * * \n",
      "    * * * * \n",
      "    * * * \n",
      "    * * \n",
      "    * \n"
     ]
    }
   ],
   "source": [
    "n = 5\n",
    "for i in range (1, n + 1):\n",
    "    print(\" \" * (n-1)+\"* \" * i)\n",
    "for i in range (n - 1, 0, -1):\n",
    "     print(\" \" * (n - 1)+ \"* \" * i)"
   ]
  },
  {
   "cell_type": "code",
   "execution_count": 30,
   "id": "8f2609bb-0c01-4a29-b30d-fb1bf21e48b2",
   "metadata": {},
   "outputs": [
    {
     "name": "stdout",
     "output_type": "stream",
     "text": [
      "1 \n",
      "1 2 \n",
      "1 2 3 \n",
      "1 2 3 4 \n",
      "1 2 3 4 5 \n"
     ]
    }
   ],
   "source": [
    "n = 5\n",
    "for i in range(1, n+1):\n",
    "    for j in range (1, i+1):\n",
    "        print(j, end=\" \")\n",
    "    print()"
   ]
  },
  {
   "cell_type": "code",
   "execution_count": 42,
   "id": "06a86766-a6b1-4bd2-8abc-d101646388e4",
   "metadata": {},
   "outputs": [
    {
     "name": "stdout",
     "output_type": "stream",
     "text": [
      "* \n",
      "* * \n",
      "*   * \n",
      "*     * \n",
      "* * * * * \n"
     ]
    }
   ],
   "source": [
    "n = 5\n",
    "for i in range(1, n + 1):\n",
    "    for j in range(1, i + 1):\n",
    "        if j == 1 or j == i or i==n:\n",
    "            print(\"*\", end=\" \")\n",
    "        else:\n",
    "            print (\" \", end=\" \")\n",
    "    print()"
   ]
  },
  {
   "cell_type": "code",
   "execution_count": 49,
   "id": "7fa3995b-d778-4049-8e48-4bbe3d6856b4",
   "metadata": {},
   "outputs": [
    {
     "name": "stdin",
     "output_type": "stream",
     "text": [
      "enter a number/word 12345\n"
     ]
    },
    {
     "name": "stdout",
     "output_type": "stream",
     "text": [
      "no! it is not a palindorme!\n"
     ]
    }
   ],
   "source": [
    "#palindrome\n",
    "a = input(\"enter a number/word\").lower()\n",
    "if a == a[::-1]:\n",
    "    print(\"yes! it is a palindrome!\")\n",
    "else:\n",
    "    print(\"no! it is not a palindorme!\")"
   ]
  },
  {
   "cell_type": "code",
   "execution_count": 53,
   "id": "9f5c1d61-fb70-4212-940a-e497dd3fffb1",
   "metadata": {},
   "outputs": [
    {
     "name": "stdin",
     "output_type": "stream",
     "text": [
      "make your input that you want to verify? Henna \n"
     ]
    },
    {
     "name": "stdout",
     "output_type": "stream",
     "text": [
      "number of vowels: 2\n"
     ]
    }
   ],
   "source": [
    "#vowels\n",
    "a = input(\"make your input that you want to verify?\")\n",
    "vowles = \"aeiouAEIOU\"\n",
    "count = 0\n",
    "for char in a:\n",
    "    if char in vowles:\n",
    "        count +=1\n",
    "print(\"number of vowels:\", count)"
   ]
  },
  {
   "cell_type": "code",
   "execution_count": 62,
   "id": "09c44901-6cdc-4552-b521-0221a7e31156",
   "metadata": {
    "collapsed": true,
    "jupyter": {
     "outputs_hidden": true,
     "source_hidden": true
    },
    "scrolled": true
   },
   "outputs": [
    {
     "name": "stdout",
     "output_type": "stream",
     "text": [
      "0\n",
      "1\n",
      "1\n",
      "2\n",
      "3\n",
      "5\n",
      "8\n",
      "13\n",
      "21\n",
      "34\n"
     ]
    }
   ],
   "source": [
    "#fibonacci series\n",
    "a, b = 0, 1\n",
    "for i in range(10):\n",
    "    print(a)\n",
    "    a, b = b , a + b"
   ]
  },
  {
   "cell_type": "code",
   "execution_count": 70,
   "id": "90fb23c1-2743-47a9-a1af-782851ce8a1f",
   "metadata": {
    "collapsed": true,
    "jupyter": {
     "outputs_hidden": true,
     "source_hidden": true
    }
   },
   "outputs": [
    {
     "name": "stdin",
     "output_type": "stream",
     "text": [
      "Enter digits 1234\n"
     ]
    },
    {
     "name": "stdout",
     "output_type": "stream",
     "text": [
      "10\n"
     ]
    }
   ],
   "source": [
    "#sum of digits\n",
    "num= input(\"Enter digits\")\n",
    "sum_digits = 0\n",
    "\n",
    "for digit in num:\n",
    "    sum_digits += int(digit)\n",
    "print(sum_digits)"
   ]
  },
  {
   "cell_type": "code",
   "execution_count": 75,
   "id": "1683f296-78fc-45df-aa9c-3dd300b60ac4",
   "metadata": {
    "collapsed": true,
    "jupyter": {
     "outputs_hidden": true,
     "source_hidden": true
    }
   },
   "outputs": [
    {
     "name": "stdout",
     "output_type": "stream",
     "text": [
      "    1 \n",
      "  1 2 3 \n",
      "1 2 3 4 5 \n"
     ]
    }
   ],
   "source": [
    "#Full pyramid pattern with numbers\n",
    "rows = 3\n",
    "for i in range(1, rows + 1):\n",
    "    for space in range(rows - i):\n",
    "        print(\" \", end=\" \")\n",
    "    for num in range(1, 2 * i):\n",
    "        print(num,end=\" \")\n",
    "    print()"
   ]
  },
  {
   "cell_type": "code",
   "execution_count": 90,
   "id": "6a045c59-8305-4974-88aa-df95e95e8419",
   "metadata": {
    "collapsed": true,
    "jupyter": {
     "outputs_hidden": true,
     "source_hidden": true
    }
   },
   "outputs": [
    {
     "name": "stdout",
     "output_type": "stream",
     "text": [
      "*********\n",
      " *******\n",
      "  *****\n",
      "   ***\n",
      "    *\n"
     ]
    }
   ],
   "source": [
    "#inverted start pyramid\n",
    "rows = 5\n",
    "for i in range(rows):\n",
    "    print(\" \" *i + \"*\" * (2*(rows - i) - 1))"
   ]
  },
  {
   "cell_type": "code",
   "execution_count": 95,
   "id": "fa8d313d-1623-42f0-911d-47008c022be2",
   "metadata": {
    "collapsed": true,
    "jupyter": {
     "outputs_hidden": true,
     "source_hidden": true
    }
   },
   "outputs": [
    {
     "name": "stdout",
     "output_type": "stream",
     "text": [
      "     \n",
      "    * \n",
      "   * * \n",
      "  * * * \n",
      " * * * * \n"
     ]
    }
   ],
   "source": [
    "#pyramid\n",
    "rows = 5\n",
    "for i in range(rows):\n",
    "    print(\" \" * (rows- i)+ \"* \" * i)"
   ]
  },
  {
   "cell_type": "code",
   "execution_count": 96,
   "id": "c82f9842-a97c-419f-bdc3-5fab8a5b73d5",
   "metadata": {
    "collapsed": true,
    "jupyter": {
     "outputs_hidden": true,
     "source_hidden": true
    }
   },
   "outputs": [
    {
     "name": "stdin",
     "output_type": "stream",
     "text": [
      "enter the number 5\n"
     ]
    },
    {
     "name": "stdout",
     "output_type": "stream",
     "text": [
      "5*1 = 5\n",
      "5*2 = 10\n",
      "5*3 = 15\n",
      "5*4 = 20\n",
      "5*5 = 25\n",
      "5*6 = 30\n",
      "5*7 = 35\n",
      "5*8 = 40\n",
      "5*9 = 45\n",
      "5*10 = 50\n"
     ]
    }
   ],
   "source": [
    "#Print a table of any number\n",
    "num = int(input(\"enter the number\"))\n",
    "for i in range(1,11):\n",
    "\tprint(f\"{num}*{i} = {num * i}\")"
   ]
  },
  {
   "cell_type": "code",
   "execution_count": 113,
   "id": "8c2b39f5-ac53-4b22-86be-047c083dde04",
   "metadata": {
    "collapsed": true,
    "jupyter": {
     "outputs_hidden": true,
     "source_hidden": true
    }
   },
   "outputs": [
    {
     "name": "stdin",
     "output_type": "stream",
     "text": [
      "Enter a word 1234\n"
     ]
    },
    {
     "name": "stdout",
     "output_type": "stream",
     "text": [
      "4321\n"
     ]
    },
    {
     "name": "stdin",
     "output_type": "stream",
     "text": [
      "Enter a number mom\n"
     ]
    },
    {
     "name": "stdout",
     "output_type": "stream",
     "text": [
      "Number is a palindrome!\n",
      "mom\n"
     ]
    }
   ],
   "source": [
    "word = input(\"Enter a word\")\n",
    "reversed_word =\"\"\n",
    "\n",
    "for letter in word:\n",
    "    reversed_word = letter + reversed_word\n",
    "\n",
    "print(reversed_word)\n",
    "\n",
    "num = (input(\"Enter a number\"))\n",
    "if num == num[::-1]:\n",
    "    print (\"Number is a palindrome!\")\n",
    "else:\n",
    "    print(\"It is not a palindrome!\")\n",
    "print(num)"
   ]
  },
  {
   "cell_type": "code",
   "execution_count": 115,
   "id": "78e8dfe8-f87d-4557-b072-236822239374",
   "metadata": {},
   "outputs": [
    {
     "name": "stdout",
     "output_type": "stream",
     "text": [
      "they are anagrams!\n"
     ]
    }
   ],
   "source": [
    "#Anagrams\n",
    "str1 = \"lIstEn \"\n",
    "str2 = \"Si Lent\"\n",
    "\n",
    "#remove spaces and convert to lowercase\n",
    "str1 = str1.replace(\" \",\"\").lower()\n",
    "str2 = str2.replace(\" \",\"\").lower()\n",
    "\n",
    "#Sort and compare\n",
    "\n",
    "if sorted (str1) ==sorted(str2):\n",
    "    print(\"they are anagrams!\")\n",
    "else:\n",
    "    print(\"they are anagrams!\")\n"
   ]
  },
  {
   "cell_type": "code",
   "execution_count": 119,
   "id": "b65724d0-2e41-47c1-8f60-97e8c2518422",
   "metadata": {},
   "outputs": [
    {
     "name": "stdout",
     "output_type": "stream",
     "text": [
      "{'p': 1, 'r': 2, 'o': 1, 'g': 2, 'a': 1, 'm': 2, 'i': 1, 'n': 1, '@': 1, '1': 2, '2': 2, '3': 2, 'R': 1}\n"
     ]
    }
   ],
   "source": [
    "#count characters in a string\n",
    "\n",
    "text = \"programming@123R123\"\n",
    "char_count ={}\n",
    "\n",
    "for char in text:\n",
    "    if char in char_count:\n",
    "        char_count[char] +=1\n",
    "    else:\n",
    "        char_count[char] = 1\n",
    "print(char_count)"
   ]
  },
  {
   "cell_type": "code",
   "execution_count": 123,
   "id": "8cc9777d-1a6c-472f-a5b1-2be9de9f70e9",
   "metadata": {},
   "outputs": [
    {
     "name": "stdout",
     "output_type": "stream",
     "text": [
      "Cleaned Sentence: Hello How are you Im fine  great\n"
     ]
    }
   ],
   "source": [
    "#remove punctuation from a string\n",
    "\n",
    "import string\n",
    "\n",
    "text = \"Hello!!! How are you?? I'm fine :) #great\"\n",
    "cleaned_text = \"\"\n",
    "\n",
    "for char in text:\n",
    "    if char not in string.punctuation:\n",
    "        cleaned_text += char\n",
    "print(\"Cleaned Sentence:\", cleaned_text)\n"
   ]
  },
  {
   "cell_type": "code",
   "execution_count": null,
   "id": "86163bfa-fa66-4296-b441-c40da665c37a",
   "metadata": {},
   "outputs": [],
   "source": []
  }
 ],
 "metadata": {
  "kernelspec": {
   "display_name": "Python 3 (ipykernel)",
   "language": "python",
   "name": "python3"
  },
  "language_info": {
   "codemirror_mode": {
    "name": "ipython",
    "version": 3
   },
   "file_extension": ".py",
   "mimetype": "text/x-python",
   "name": "python",
   "nbconvert_exporter": "python",
   "pygments_lexer": "ipython3",
   "version": "3.11.9"
  }
 },
 "nbformat": 4,
 "nbformat_minor": 5
}
