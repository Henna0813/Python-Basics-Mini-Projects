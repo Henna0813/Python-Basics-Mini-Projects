{
 "cells": [
  {
   "cell_type": "code",
   "execution_count": 2,
   "id": "6502b9d4-b5b5-4bbc-9901-eb11378aa427",
   "metadata": {},
   "outputs": [
    {
     "name": "stdout",
     "output_type": "stream",
     "text": [
      "*\n",
      "**\n",
      "***\n",
      "****\n"
     ]
    }
   ],
   "source": [
    "for i in range (1,5):\n",
    "    print(\"*\" * i)"
   ]
  },
  {
   "cell_type": "code",
   "execution_count": 4,
   "id": "fe9dc17f-a4d7-4e00-a1d5-03303b152e21",
   "metadata": {},
   "outputs": [
    {
     "name": "stdout",
     "output_type": "stream",
     "text": [
      "1 \n",
      "1 2 \n",
      "1 2 3 \n",
      "1 2 3 4 \n"
     ]
    }
   ],
   "source": [
    "n = 5\n",
    "for i in range (1, i + 1):\n",
    "    for j in range(1, i + 1):\n",
    "        print(j, end= \" \")\n",
    "    print()"
   ]
  },
  {
   "cell_type": "code",
   "execution_count": 8,
   "id": "e16a8a69-2f2e-4d31-bad5-8360bd1ed83a",
   "metadata": {},
   "outputs": [
    {
     "name": "stdout",
     "output_type": "stream",
     "text": [
      "A B C D \n",
      "A B C \n",
      "A B \n",
      "A \n"
     ]
    }
   ],
   "source": [
    "n = 4\n",
    "for i in range (n , 0, -1):\n",
    "    for j in range(65, 65 + i):\n",
    "        print(chr(j), end=\" \")\n",
    "    print()"
   ]
  },
  {
   "cell_type": "code",
   "execution_count": 9,
   "id": "cf6e7323-2d9a-481a-8dc0-921fb4c63161",
   "metadata": {},
   "outputs": [
    {
     "name": "stdout",
     "output_type": "stream",
     "text": [
      "    * \n",
      "   * * \n",
      "  * * * \n",
      " * * * * \n",
      "* * * * * \n"
     ]
    }
   ],
   "source": [
    "rows = 5\n",
    "for i in range (1, rows +  1):\n",
    "    print(\" \" * (rows - i) + \"* \" * i )"
   ]
  },
  {
   "cell_type": "code",
   "execution_count": null,
   "id": "daa9ad7d-ccb3-4275-ae97-4ddd272cde9b",
   "metadata": {},
   "outputs": [],
   "source": []
  }
 ],
 "metadata": {
  "kernelspec": {
   "display_name": "Python 3 (ipykernel)",
   "language": "python",
   "name": "python3"
  },
  "language_info": {
   "codemirror_mode": {
    "name": "ipython",
    "version": 3
   },
   "file_extension": ".py",
   "mimetype": "text/x-python",
   "name": "python",
   "nbconvert_exporter": "python",
   "pygments_lexer": "ipython3",
   "version": "3.11.9"
  }
 },
 "nbformat": 4,
 "nbformat_minor": 5
}
