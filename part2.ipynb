{
 "cells": [
  {
   "cell_type": "code",
   "execution_count": 1,
   "id": "f6a0e73d-c175-43c1-8c25-2f5f3956325d",
   "metadata": {
    "scrolled": true
   },
   "outputs": [
    {
     "name": "stdout",
     "output_type": "stream",
     "text": [
      "5\n"
     ]
    }
   ],
   "source": [
    "x=5\n",
    "print(x)"
   ]
  },
  {
   "cell_type": "code",
   "execution_count": 3,
   "id": "56ee3ae4-d46c-42f1-936a-34c627e3f331",
   "metadata": {},
   "outputs": [
    {
     "name": "stdout",
     "output_type": "stream",
     "text": [
      "sum of a & b is : 7\n"
     ]
    }
   ],
   "source": [
    "a=3\n",
    "b=4\n",
    "sum =a+b\n",
    "print (\"sum of a & b is :\", sum)\n"
   ]
  },
  {
   "cell_type": "code",
   "execution_count": 11,
   "id": "9b275427-16ce-4b36-9a9e-d0c6931b53ab",
   "metadata": {},
   "outputs": [
    {
     "name": "stdin",
     "output_type": "stream",
     "text": [
      "Enter First number 10\n",
      "Enter Second number 20\n"
     ]
    },
    {
     "name": "stdout",
     "output_type": "stream",
     "text": [
      "sum of a & b is : 30\n"
     ]
    }
   ],
   "source": [
    "a = int (input (\"Enter First number\"))\n",
    "b = int (input(\"Enter Second number\"))\n",
    "sum = a+b\n",
    "print (f\"sum of a & b is :\", sum)"
   ]
  },
  {
   "cell_type": "code",
   "execution_count": 12,
   "id": "050fa6b9-6a7b-46b2-8441-db8edabe7db2",
   "metadata": {},
   "outputs": [
    {
     "name": "stdout",
     "output_type": "stream",
     "text": [
      "20\n",
      "10\n"
     ]
    }
   ],
   "source": [
    "a = 10\n",
    "b = 20\n",
    "a, b = b, a\n",
    "print (a)\n",
    "print (b)"
   ]
  },
  {
   "cell_type": "code",
   "execution_count": 15,
   "id": "f9af5490-3f0a-490c-aaec-c6626f1d2268",
   "metadata": {},
   "outputs": [
    {
     "name": "stdout",
     "output_type": "stream",
     "text": [
      "Henna\n"
     ]
    }
   ],
   "source": [
    "a = str (\"Henna\")\n",
    "\n",
    "print (a)"
   ]
  },
  {
   "cell_type": "code",
   "execution_count": 16,
   "id": "b9da3646-6de6-4bef-8db5-caff2f15f9ae",
   "metadata": {},
   "outputs": [
    {
     "name": "stdin",
     "output_type": "stream",
     "text": [
      "Enter your age 31\n"
     ]
    },
    {
     "name": "stdout",
     "output_type": "stream",
     "text": [
      "You are 31  years old!\n"
     ]
    }
   ],
   "source": [
    "user = input (\"Enter your age\")\n",
    "print (f\"You are {user}  years old!\")"
   ]
  },
  {
   "cell_type": "code",
   "execution_count": 18,
   "id": "c7d78319-1492-45ab-a57b-beb66ca98be0",
   "metadata": {},
   "outputs": [
    {
     "name": "stdin",
     "output_type": "stream",
     "text": [
      "Enter first number 4\n",
      " Enter second number 2\n"
     ]
    },
    {
     "name": "stdout",
     "output_type": "stream",
     "text": [
      "Sum of a & b is 6\n",
      "Difference of a & b is 2\n",
      "product of a & b is  8\n"
     ]
    }
   ],
   "source": [
    "a = int (input(\"Enter first number\"))\n",
    "b = int (input (\" Enter second number\"))\n",
    "print (f\"Sum of a & b is {a+b}\")\n",
    "print (f\"Difference of a & b is {a-b}\")\n",
    "print (f\"product of a & b is  {a*b}\")"
   ]
  },
  {
   "cell_type": "code",
   "execution_count": 20,
   "id": "ec7370e5-4a0f-486b-920d-483738304dab",
   "metadata": {},
   "outputs": [
    {
     "name": "stdout",
     "output_type": "stream",
     "text": [
      "Let's go outside and play\n"
     ]
    }
   ],
   "source": [
    "weather = \"sunny\"\n",
    "\n",
    "if weather == \"sunny\":\n",
    "    print (\"Let's go outside and play\")\n",
    "else:\n",
    "    print (\"stay indoors\")"
   ]
  },
  {
   "cell_type": "code",
   "execution_count": 60,
   "id": "f4e10e2c-ad5f-444b-8624-9c875c2c0fe4",
   "metadata": {},
   "outputs": [
    {
     "name": "stdin",
     "output_type": "stream",
     "text": [
      "Enter a number : 8\n"
     ]
    },
    {
     "name": "stdout",
     "output_type": "stream",
     "text": [
      "number is even\n"
     ]
    }
   ],
   "source": [
    "a = int (input (\"Enter a number :\"))\n",
    "\n",
    "if a % 2 == 0:\n",
    "    print (\"number is even\")\n",
    "else:\n",
    "    print (\"odd number\")"
   ]
  },
  {
   "cell_type": "code",
   "execution_count": 71,
   "id": "1de79878-7788-41d6-acf5-00ace77dbcbd",
   "metadata": {},
   "outputs": [
    {
     "name": "stdin",
     "output_type": "stream",
     "text": [
      "Enter a word MoM\n"
     ]
    },
    {
     "name": "stdout",
     "output_type": "stream",
     "text": [
      "It is Palindrome!\n"
     ]
    }
   ],
   "source": [
    "a = input (\"Enter a word\").lower()\n",
    "\n",
    "if a == a[::-1]:\n",
    "    print (\"It is Palindrome!\")\n",
    "else:\n",
    "    print (\"It is not a Palindrome!\")\n",
    "        "
   ]
  },
  {
   "cell_type": "code",
   "execution_count": 31,
   "id": "c4977c8e-129d-4176-8f90-851306b8cc4c",
   "metadata": {},
   "outputs": [
    {
     "name": "stdin",
     "output_type": "stream",
     "text": [
      "Enter your age 31\n"
     ]
    },
    {
     "name": "stdout",
     "output_type": "stream",
     "text": [
      "your age is 31, you are an adult\n"
     ]
    }
   ],
   "source": [
    "a = int (input (\"Enter your age\"))\n",
    "\n",
    "if a > 18:\n",
    "    print (f\"your age is {a}, you are an adult\")\n",
    "else:\n",
    "    print (\"you're a child\")"
   ]
  },
  {
   "cell_type": "code",
   "execution_count": 32,
   "id": "09188b15-e020-4c13-ba75-0d354dad263d",
   "metadata": {},
   "outputs": [
    {
     "name": "stdout",
     "output_type": "stream",
     "text": [
      "1\n",
      "2\n",
      "3\n",
      "4\n",
      "5\n",
      "6\n",
      "7\n",
      "8\n",
      "9\n",
      "10\n"
     ]
    }
   ],
   "source": [
    "for i in range(1,11):\n",
    "    print(i)"
   ]
  },
  {
   "cell_type": "code",
   "execution_count": 38,
   "id": "90d3d591-da8b-4e10-a9ea-ace84b97dd05",
   "metadata": {},
   "outputs": [
    {
     "name": "stdout",
     "output_type": "stream",
     "text": [
      "21 , it is an odd number\n",
      "22, it is an even number\n",
      "23 , it is an odd number\n",
      "24, it is an even number\n",
      "25 , it is an odd number\n",
      "26, it is an even number\n",
      "27 , it is an odd number\n",
      "28, it is an even number\n",
      "29 , it is an odd number\n",
      "30, it is an even number\n"
     ]
    }
   ],
   "source": [
    "for i in range (21,31):\n",
    "    if i % 2 ==0 :\n",
    "        print (f\"{i}, it is an even number\")\n",
    "    else:\n",
    "        print (f\"{i} , it is an odd number\")"
   ]
  },
  {
   "cell_type": "code",
   "execution_count": 41,
   "id": "40ecd9d6-2483-40fa-9eac-f5d4b6d94918",
   "metadata": {},
   "outputs": [
    {
     "name": "stdout",
     "output_type": "stream",
     "text": [
      "(^_^)\n",
      "(^_^)(^_^)\n",
      "(^_^)(^_^)(^_^)\n",
      "(^_^)(^_^)(^_^)(^_^)\n"
     ]
    }
   ],
   "source": [
    "for i in range (1,5):\n",
    "    print (\"(^_^)\" * i)"
   ]
  },
  {
   "cell_type": "code",
   "execution_count": 43,
   "id": "2f3b5022-653f-4173-950b-b62264e05020",
   "metadata": {},
   "outputs": [
    {
     "name": "stdin",
     "output_type": "stream",
     "text": [
      "Enter first number 3\n",
      "Enter 2nd number 4\n"
     ]
    },
    {
     "name": "stdout",
     "output_type": "stream",
     "text": [
      "sum is 7\n",
      "difference is -1\n",
      "product is 12\n",
      "division is 0.75\n"
     ]
    }
   ],
   "source": [
    "a = int (input(\"Enter first number\"))\n",
    "b = int (input(\"Enter 2nd number\"))\n",
    "print (f\"sum is {a+b}\")\n",
    "print (f\"difference is {a-b}\")\n",
    "print (f\"product is {a*b}\")\n",
    "\n",
    "if b!=0:\n",
    "    print (f\"division is {a/b}\")\n",
    "else:\n",
    "    print (\"cannot divide number by zero!!\")\n"
   ]
  },
  {
   "cell_type": "code",
   "execution_count": 46,
   "id": "3c33f0fb-9d62-4e53-9488-86b4bfce1e82",
   "metadata": {},
   "outputs": [
    {
     "name": "stdin",
     "output_type": "stream",
     "text": [
      "Enter a single alphabet 4\n"
     ]
    },
    {
     "name": "stdout",
     "output_type": "stream",
     "text": [
      "Enter a valid input\n"
     ]
    }
   ],
   "source": [
    "a = input (\"Enter a single alphabet\")\n",
    "if a.lower() in 'aeiou':\n",
    "    print (\"it is a vowel\")\n",
    "elif a.isalpha():\n",
    "    print (\"it is a consonant\")\n",
    "else:\n",
    "    print (\"Enter a valid input\")\n",
    "    "
   ]
  },
  {
   "cell_type": "code",
   "execution_count": 50,
   "id": "cffe836a-9b27-4a7b-835f-8447165c6ed2",
   "metadata": {},
   "outputs": [
    {
     "name": "stdin",
     "output_type": "stream",
     "text": [
      "Enter a word 69832yrhiu\n"
     ]
    },
    {
     "name": "stdout",
     "output_type": "stream",
     "text": [
      "it is not a palindrome!\n"
     ]
    }
   ],
   "source": [
    "a = input (\"Enter a word\")\n",
    "if a.lower() == a[::-1].lower():\n",
    "    print (\"it is a palindrome!\")\n",
    "else:\n",
    "    print (\"it is not a palindrome!\")"
   ]
  },
  {
   "cell_type": "code",
   "execution_count": 72,
   "id": "86c2c365-f988-4e83-808d-a0b84350cd86",
   "metadata": {},
   "outputs": [
    {
     "name": "stdout",
     "output_type": "stream",
     "text": [
      "Sum of 101 to 300 is:, 40100\n"
     ]
    }
   ],
   "source": [
    "total = 0 \n",
    "for i in range (101,301):\n",
    "    total +=i\n",
    "print (f\"Sum of 101 to 300 is:, {total}\")"
   ]
  },
  {
   "cell_type": "code",
   "execution_count": 56,
   "id": "ef88ed0f-26f4-42ec-9d57-b74a6231fe73",
   "metadata": {
    "collapsed": true,
    "jupyter": {
     "outputs_hidden": true
    },
    "scrolled": true
   },
   "outputs": [
    {
     "name": "stdout",
     "output_type": "stream",
     "text": [
      "1 \n",
      "1 2 \n",
      "1 2 3 \n",
      "1 2 3 4 \n"
     ]
    }
   ],
   "source": [
    "for i in range(1,5):\n",
    "    for j in range(1, i+1):\n",
    "        print (j, end=\" \")\n",
    "    print()"
   ]
  },
  {
   "cell_type": "raw",
   "id": "953021be-93bb-47e3-b5eb-f3c34dd36804",
   "metadata": {},
   "source": []
  },
  {
   "cell_type": "code",
   "execution_count": 73,
   "id": "f7f31fd5-6c93-4906-89da-61a3fa5c920e",
   "metadata": {
    "collapsed": true,
    "jupyter": {
     "outputs_hidden": true
    }
   },
   "outputs": [
    {
     "name": "stdout",
     "output_type": "stream",
     "text": [
      "A \n",
      "A B \n",
      "A B C \n",
      "A B C D \n"
     ]
    }
   ],
   "source": [
    "for i in range (1,5):\n",
    "    for j in range (65, 65 + i): #65 is ASCII for A\n",
    "        print(chr(j), end=\" \")\n",
    "    print()"
   ]
  },
  {
   "cell_type": "code",
   "execution_count": 81,
   "id": "eaa64adc-defa-4b62-8bd6-8e6485f44b6d",
   "metadata": {
    "collapsed": true,
    "jupyter": {
     "outputs_hidden": true
    }
   },
   "outputs": [
    {
     "name": "stdout",
     "output_type": "stream",
     "text": [
      "1 \n",
      "2 3 \n",
      "4 5 6 \n",
      "7 8 9 10 \n",
      "11 12 13 14 15 \n"
     ]
    }
   ],
   "source": [
    "#Number Pyramid\n",
    "\n",
    "rows = 5\n",
    "num = 1\n",
    "for i in range (1, rows + 1):\n",
    "    for j in range (1, i + 1):\n",
    "        print (num, end=' ')\n",
    "        num +=1\n",
    "    print ()"
   ]
  },
  {
   "cell_type": "code",
   "execution_count": null,
   "id": "8fb37d24-0d60-46c0-98e0-a7ce0971aaf9",
   "metadata": {},
   "outputs": [],
   "source": [
    "# Day 4: Intermediate Loop and Pattern Problems"
   ]
  },
  {
   "cell_type": "code",
   "execution_count": 85,
   "id": "c5aab6b1-06db-4f5d-93cc-7a0e6c537280",
   "metadata": {
    "collapsed": true,
    "jupyter": {
     "outputs_hidden": true
    }
   },
   "outputs": [
    {
     "name": "stdout",
     "output_type": "stream",
     "text": [
      "1 \n",
      "2 3 \n",
      "4 5 6 \n",
      "7 8 9 10 \n",
      "11 12 13 14 15 \n",
      "16 17 18 19 20 21 \n",
      "22 23 24 25 26 27 28 \n",
      "29 30 31 32 33 34 35 36 \n"
     ]
    }
   ],
   "source": [
    "#1. Number Pyramid\n",
    "\n",
    "rows = 8\n",
    "num =1 \n",
    "for i in range (1, rows + 1): # i is the row number\n",
    "    for j in range(1, i + 1): # j goes from 1 to i\n",
    "        print (num, end=' ') #print j in same row\n",
    "        num +=1 #move to next line\n",
    "    print ()"
   ]
  },
  {
   "cell_type": "code",
   "execution_count": 87,
   "id": "a6331fba-2ca5-47fd-9f4f-5c52f926f676",
   "metadata": {
    "collapsed": true,
    "jupyter": {
     "outputs_hidden": true
    }
   },
   "outputs": [
    {
     "name": "stdout",
     "output_type": "stream",
     "text": [
      "A B C D E F G H \n",
      "A B C D E F G \n",
      "A B C D E F \n",
      "A B C D E \n",
      "A B C D \n",
      "A B C \n",
      "A B \n",
      "A \n"
     ]
    }
   ],
   "source": [
    "#Reverse Right Triangle of letters\n",
    "\n",
    "for i in range (8,0,-1): #rows from 8 to 1\n",
    "    for j in range(65, 65 + i): # ASCII 65 = A\n",
    "        print (chr(j), end=' ') # convert number to letter\n",
    "    print()"
   ]
  },
  {
   "cell_type": "code",
   "execution_count": 98,
   "id": "8acc7730-d5eb-4a75-8060-b006eb363958",
   "metadata": {},
   "outputs": [
    {
     "name": "stdout",
     "output_type": "stream",
     "text": [
      "    * \n",
      "   * * \n",
      "  * * * \n",
      " * * * * \n",
      "* * * * * \n"
     ]
    }
   ],
   "source": [
    "#centred star Pyramid\n",
    "rows = 5\n",
    "for i in range(1, rows + 1):\n",
    "    print(\" \" * (rows - i), end='') # print spaces\n",
    "    print (\"* \" * i) #print stars\n",
    "\n",
    "#Easy trick!!!!\n",
    "#space on the left makes it centered. As the row number increases, stars increase.\n",
    "#\"in row 1: 3 spaces + 1 star\n",
    "#row 2: 2 spaces + 2 stars...\"\n"
   ]
  },
  {
   "cell_type": "code",
   "execution_count": null,
   "id": "2f24e3d7-dbbb-4a58-be30-bdc4fbd02eaa",
   "metadata": {},
   "outputs": [],
   "source": [
    "#Day 5 Logical Practice Problems:"
   ]
  },
  {
   "cell_type": "code",
   "execution_count": 89,
   "id": "f181f61f-57ec-4bc6-ae08-a747ef9e6693",
   "metadata": {
    "collapsed": true,
    "jupyter": {
     "outputs_hidden": true
    }
   },
   "outputs": [
    {
     "name": "stdout",
     "output_type": "stream",
     "text": [
      "1\n",
      "2\n",
      "Fizz\n",
      "4\n",
      "Buzz\n",
      "Fizz\n",
      "7\n",
      "8\n",
      "Fizz\n",
      "Buzz\n",
      "11\n",
      "Fizz\n",
      "13\n",
      "14\n",
      "FizzBuzz\n",
      "16\n",
      "17\n",
      "Fizz\n",
      "19\n",
      "Buzz\n"
     ]
    }
   ],
   "source": [
    "#FizzBuzz (Classic Logic Question)\n",
    "\n",
    "for i in range (1, 21):\n",
    "    if i % 3 == 0 and i % 5 == 0:\n",
    "        print(\"FizzBuzz\")\n",
    "    elif i % 3 == 0:\n",
    "        print(\"Fizz\")\n",
    "    elif i % 5 == 0:\n",
    "        print (\"Buzz\")\n",
    "    else:\n",
    "        print (i)"
   ]
  },
  {
   "cell_type": "code",
   "execution_count": 93,
   "id": "b630bf81-9bb1-4978-b376-94cd3d2ffb3f",
   "metadata": {},
   "outputs": [
    {
     "name": "stdout",
     "output_type": "stream",
     "text": [
      "2 3 5 7 11 13 17 19 23 29 31 37 41 43 47 "
     ]
    }
   ],
   "source": [
    "#Print Prime numbers from 1 to 50\n",
    "\n",
    "for a in range (2, 51):\n",
    "    is_prime = True\n",
    "    for i in range (2, int(a ** 0.5) + 1):\n",
    "        if a % i == 0:\n",
    "            is_prime = False\n",
    "            break\n",
    "    if is_prime:\n",
    "        print(a, end=\" \")"
   ]
  },
  {
   "cell_type": "code",
   "execution_count": 103,
   "id": "1912e798-6a9d-4ad5-83ba-071325a35973",
   "metadata": {},
   "outputs": [
    {
     "name": "stdout",
     "output_type": "stream",
     "text": [
      "    * \n",
      "   * * \n",
      "  * * * \n",
      " * * * * \n",
      "* * * * * \n",
      " * * * * \n",
      "  * * * \n",
      "   * * \n",
      "    * \n"
     ]
    }
   ],
   "source": [
    "#Diamond star pattern:\n",
    "#hint: first make a pyramid and then make a reverse pyramid\n",
    "# use \" \" * (n - i) to create the spaces\n",
    "#use \"* \" * i for the stars\n",
    "\n",
    "num = 5\n",
    "#upper part\n",
    "for i in range (1, num + 1):\n",
    "    print (\" \" * (num - i) + \"* \" * i)\n",
    "#lower part\n",
    "for i in range (num - 1,0, -1):\n",
    "    print (\" \" * (num - i) + \"* \" * i)"
   ]
  },
  {
   "cell_type": "code",
   "execution_count": 3,
   "id": "3eb740f3-5e9f-4fcc-9e2d-6969f2f16216",
   "metadata": {},
   "outputs": [],
   "source": []
  },
  {
   "cell_type": "code",
   "execution_count": null,
   "id": "4db25fdd-4b91-47f6-8339-be7b694ecf7e",
   "metadata": {},
   "outputs": [],
   "source": []
  }
 ],
 "metadata": {
  "kernelspec": {
   "display_name": "Python 3 (ipykernel)",
   "language": "python",
   "name": "python3"
  },
  "language_info": {
   "codemirror_mode": {
    "name": "ipython",
    "version": 3
   },
   "file_extension": ".py",
   "mimetype": "text/x-python",
   "name": "python",
   "nbconvert_exporter": "python",
   "pygments_lexer": "ipython3",
   "version": "3.11.9"
  }
 },
 "nbformat": 4,
 "nbformat_minor": 5
}
