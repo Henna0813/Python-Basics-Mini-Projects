{
 "cells": [
  {
   "cell_type": "code",
   "execution_count": 6,
   "id": "068c4ce7-c782-4cde-a4d2-a373e3f0a563",
   "metadata": {},
   "outputs": [
    {
     "name": "stdin",
     "output_type": "stream",
     "text": [
      "Type 'C' to convert Celsius to Fahrenheit, or 'F' to convert Fahrenheit to celsius c\n",
      "Enter temp in Celsius: 25\n"
     ]
    },
    {
     "name": "stdout",
     "output_type": "stream",
     "text": [
      "25.0 C is equal to 77.0F\n"
     ]
    }
   ],
   "source": [
    "#Temperature converter\n",
    "choice = input(\"Type 'C' to convert Celsius to Fahrenheit, or 'F' to convert Fahrenheit to celsius\")\n",
    "\n",
    "if choice.upper() == 'C':\n",
    "    celsius = float(input(\"Enter temp in Celsius:\"))\n",
    "    fahrenheit = (celsius * 9/5) + 32\n",
    "    print(f\"{celsius} C is equal to {fahrenheit}F\")\n",
    "\n",
    "elif choice.upper() == 'F':\n",
    "    fahrenheit = float(input(\"ENter temp in Fahrenhiet\"))\n",
    "    celsius = (fahrenheit - 32) *5/9\n",
    "    print(f\"{fahrenheit}F is equal to {celsius}C\")\n",
    "\n",
    "else:\n",
    "    print(\"invalid choice! please type 'C' or 'F'\")"
   ]
  },
  {
   "cell_type": "code",
   "execution_count": 15,
   "id": "003cc463-9c28-4e51-ac2a-efc851a40c7d",
   "metadata": {},
   "outputs": [
    {
     "name": "stdout",
     "output_type": "stream",
     "text": [
      "/n Welcome to simple calcultor\n",
      "Type 'exit' anytime to stop\n"
     ]
    },
    {
     "name": "stdin",
     "output_type": "stream",
     "text": [
      "Enter first number 12\n",
      "Enter operator(+, -, *, /): *2\n",
      "Enter second number 2\n"
     ]
    },
    {
     "name": "stdout",
     "output_type": "stream",
     "text": [
      "Invalid operator. Please use +, -, /, *.\n",
      "/n Welcome to simple calcultor\n",
      "Type 'exit' anytime to stop\n"
     ]
    },
    {
     "name": "stdin",
     "output_type": "stream",
     "text": [
      "Enter first number 12\n",
      "Enter operator(+, -, *, /): /\n",
      "Enter second number 6\n"
     ]
    },
    {
     "name": "stdout",
     "output_type": "stream",
     "text": [
      "Result: 12.0 / 6.0 = 2.0\n",
      "/n Welcome to simple calcultor\n",
      "Type 'exit' anytime to stop\n"
     ]
    },
    {
     "name": "stdin",
     "output_type": "stream",
     "text": [
      "Enter first number exit\n"
     ]
    },
    {
     "name": "stdout",
     "output_type": "stream",
     "text": [
      "Exiting calculator, Goodbye!!\n"
     ]
    }
   ],
   "source": [
    "#Calculator\n",
    "while True:\n",
    "    print(\"/n Welcome to simple calcultor\")\n",
    "    print(\"Type 'exit' anytime to stop\")\n",
    "\n",
    "    #Get the first number\n",
    "    num1 = input(\"Enter first number\")\n",
    "    if num1.lower() == 'exit':\n",
    "        print(\"Exiting calculator, Goodbye!!\")\n",
    "        break\n",
    "    num1 = float(num1)\n",
    "\n",
    "    #Get Operator\n",
    "    operator = input(\"Enter operator(+, -, *, /):\")\n",
    "    if operator.lower() =='exit':\n",
    "        exit\n",
    "        print(\"Exiting calculator, Goodbye!!\")\n",
    "        break\n",
    "    #Get the second operator\n",
    "    num2 = input(\"Enter second number\")\n",
    "    if num2.lower() == 'exit':\n",
    "        print(\"Exiting calculator, Goodbye!!\")\n",
    "        break\n",
    "    num2 = float(num2)\n",
    "\n",
    "    #perform calculations\n",
    "\n",
    "    if operator == '+':\n",
    "        print (f\"Result: {num1} + {num2} = {num1 + num2}\")\n",
    "    elif operator == '-':\n",
    "        print (f\"Result: {num1} - {num2} = {num1 - num2}\")\n",
    "    elif operator == '*':\n",
    "        print (f\"Result: {num1} * {num2} = {num1 * num2}\")\n",
    "    elif operator == '/':\n",
    "        if num2 ==0:\n",
    "            print(\"Cannot divide by zero!!\")\n",
    "        else:\n",
    "            print (f\"Result: {num1} / {num2} = {num1 / num2}\")\n",
    "    else:\n",
    "            print(\"Invalid operator. Please use +, -, /, *.\")\n",
    "        "
   ]
  },
  {
   "cell_type": "code",
   "execution_count": 21,
   "id": "cbc43bc6-7f8c-4942-a9c0-cffc2cbf35cb",
   "metadata": {},
   "outputs": [
    {
     "name": "stdin",
     "output_type": "stream",
     "text": [
      "Enter a sentence! I love my baby Atahrv\n"
     ]
    },
    {
     "name": "stdout",
     "output_type": "stream",
     "text": [
      "Number of words: 5\n"
     ]
    }
   ],
   "source": [
    "#Count words in a sentence\n",
    "\n",
    "sentence = input (\"Enter a sentence!\")\n",
    "words = sentence.split()\n",
    "count = len(words)\n",
    "print (\"Number of words:\", count)"
   ]
  },
  {
   "cell_type": "code",
   "execution_count": 22,
   "id": "faf028e4-6936-489f-8417-6ed97bcde3dc",
   "metadata": {},
   "outputs": [
    {
     "name": "stdout",
     "output_type": "stream",
     "text": [
      "Largest number is: 9\n",
      "Smalles number is: 2\n"
     ]
    }
   ],
   "source": [
    "#Find the largest and smallest number in the list\n",
    "\n",
    "numbers = [2,6,7,3,9]\n",
    "\n",
    "largest = max(numbers)\n",
    "smallest = min(numbers)\n",
    "\n",
    "print (\"Largest number is:\", largest)\n",
    "print (\"Smalles number is:\", smallest)"
   ]
  },
  {
   "cell_type": "code",
   "execution_count": 23,
   "id": "402ade5e-7657-4bbb-b08b-9052a25343fc",
   "metadata": {},
   "outputs": [
    {
     "name": "stdout",
     "output_type": "stream",
     "text": [
      "List after removing duplicates: [1, 2, 3, 4, 5, 6]\n"
     ]
    }
   ],
   "source": [
    "#Remove Duplicates\n",
    "\n",
    "numbers = [2,3,4,5,3,2,6,4,1]\n",
    "unique_numbers = list(set(numbers))\n",
    "print(\"List after removing duplicates:\", unique_numbers)"
   ]
  },
  {
   "cell_type": "code",
   "execution_count": 51,
   "id": "55140057-f31e-4aca-a164-62677fcdc1a3",
   "metadata": {},
   "outputs": [
    {
     "name": "stdout",
     "output_type": "stream",
     "text": [
      "14\n",
      "5\n",
      "14\n"
     ]
    }
   ],
   "source": [
    "#count number of alphabets, digits,spl char\n",
    "\n",
    "text = \"Hello!! How are you??!@#$%^&12345\"\n",
    "alphabets = digits = special = 0\n",
    "\n",
    "for char in text:\n",
    "    if char.isalpha():\n",
    "        alphabets += 1\n",
    "    elif char.isdigit():\n",
    "        digits += 1\n",
    "    else:\n",
    "        special +=1\n",
    "print(alphabets)\n",
    "print(digits)\n",
    "print(special)"
   ]
  },
  {
   "cell_type": "code",
   "execution_count": null,
   "id": "752fee71-e922-4c2d-836a-3a6363f14d75",
   "metadata": {},
   "outputs": [],
   "source": []
  }
 ],
 "metadata": {
  "kernelspec": {
   "display_name": "Python 3 (ipykernel)",
   "language": "python",
   "name": "python3"
  },
  "language_info": {
   "codemirror_mode": {
    "name": "ipython",
    "version": 3
   },
   "file_extension": ".py",
   "mimetype": "text/x-python",
   "name": "python",
   "nbconvert_exporter": "python",
   "pygments_lexer": "ipython3",
   "version": "3.11.9"
  }
 },
 "nbformat": 4,
 "nbformat_minor": 5
}
