{
 "cells": [
  {
   "cell_type": "code",
   "execution_count": 6,
   "id": "0d0df941-cef0-45e4-9226-b704e7af79a2",
   "metadata": {
    "collapsed": true,
    "jupyter": {
     "outputs_hidden": true,
     "source_hidden": true
    },
    "scrolled": true
   },
   "outputs": [
    {
     "name": "stdout",
     "output_type": "stream",
     "text": [
      "* * * * \n",
      "*     * \n",
      "*     * \n",
      "* * * * \n"
     ]
    }
   ],
   "source": [
    "#hollow square pattern\n",
    "\n",
    "n = 4\n",
    "for i in range (n):\n",
    "    for j in range (n):\n",
    "        if i == 0 or i == n-1 or j == 0 or j == n-1:\n",
    "            print (\"*\", end = \" \")\n",
    "        else:\n",
    "            print (\" \", end = \" \")\n",
    "    print()"
   ]
  },
  {
   "cell_type": "code",
   "execution_count": 16,
   "id": "eebb3030-0060-4d54-974a-b860fbbe2729",
   "metadata": {
    "collapsed": true,
    "jupyter": {
     "outputs_hidden": true,
     "source_hidden": true
    },
    "scrolled": true
   },
   "outputs": [
    {
     "name": "stdout",
     "output_type": "stream",
     "text": [
      "153\n",
      "370\n",
      "371\n",
      "407\n"
     ]
    }
   ],
   "source": [
    "#Armstrong number\n",
    "\n",
    "for num in range (100,1000):\n",
    "    digits = [int (d) for d in str(num)]\n",
    "    total = sum ([d ** 3 for d in digits])\n",
    "    if num == total:\n",
    "        print (num)"
   ]
  },
  {
   "cell_type": "code",
   "execution_count": 12,
   "id": "e9c1b68b-91a2-4231-a697-7fd775cdda3e",
   "metadata": {},
   "outputs": [
    {
     "name": "stdout",
     "output_type": "stream",
     "text": [
      "\n",
      "1 \n",
      "2 3 \n",
      "4 5 6 \n"
     ]
    }
   ],
   "source": [
    "#Floyd's triangle\n",
    "\n",
    "num = 1\n",
    "for i in range (1,5):\n",
    "    for j in range (1, i):\n",
    "        print (num, end=\" \")\n",
    "        num +=1\n",
    "    print()"
   ]
  },
  {
   "cell_type": "code",
   "execution_count": 15,
   "id": "f3ced31d-9634-48bc-a508-497867000b80",
   "metadata": {
    "collapsed": true,
    "jupyter": {
     "outputs_hidden": true,
     "source_hidden": true
    }
   },
   "outputs": [
    {
     "name": "stdout",
     "output_type": "stream",
     "text": [
      "factorial of 5 is 120\n"
     ]
    }
   ],
   "source": [
    "#Factorial of a number\n",
    "\n",
    "n = 5\n",
    "fact =1\n",
    "for i in range (1, n + 1):\n",
    "    fact *= i\n",
    "print (f\"factorial of {n} is\", fact)"
   ]
  },
  {
   "cell_type": "code",
   "execution_count": 35,
   "id": "7d12965a-c1ee-4aad-b973-240a3b04aa5e",
   "metadata": {},
   "outputs": [
    {
     "name": "stdout",
     "output_type": "stream",
     "text": [
      "* \n",
      "* * \n",
      "*   * \n",
      "*     * \n",
      "* * * * * \n"
     ]
    }
   ],
   "source": [
    "#hollow right triangle\n",
    "n = 5\n",
    "for i in range (1, n +1):\n",
    "    for j in range (1, i + 1):\n",
    "        if j == 1 or j == i or i == n:\n",
    "            print(\"*\", end=\" \")\n",
    "        else:\n",
    "            print(\" \", end=\" \")\n",
    "    print()"
   ]
  },
  {
   "cell_type": "code",
   "execution_count": 36,
   "id": "827c4391-4f59-4e7d-a83a-2c01458f3afb",
   "metadata": {},
   "outputs": [
    {
     "name": "stdout",
     "output_type": "stream",
     "text": [
      "* * * * * \n",
      "*     * \n",
      "*   * \n",
      "* * \n",
      "* \n"
     ]
    }
   ],
   "source": [
    "#hollow inverted right triangle\n",
    "n = 5\n",
    "for i in range (n , 0, -1):\n",
    "    for j in range (1, i + 1):\n",
    "        if j == 1 or j == i or i == n:\n",
    "            print(\"*\", end=\" \")\n",
    "        else:\n",
    "            print(\" \", end=\" \")\n",
    "    print()"
   ]
  },
  {
   "cell_type": "code",
   "execution_count": 38,
   "id": "35392ccf-1909-479b-bec5-0501536762e4",
   "metadata": {},
   "outputs": [
    {
     "name": "stdin",
     "output_type": "stream",
     "text": [
      "Enter a string Henna is learning python\n"
     ]
    },
    {
     "name": "stdout",
     "output_type": "stream",
     "text": [
      "Vowels: 7\n"
     ]
    }
   ],
   "source": [
    "#Count vowels in a string\n",
    "\n",
    "text = input (\"Enter a string\")\n",
    "vowels = \"aeiouAEIOU\"\n",
    "count = 0 \n",
    "for char in text:\n",
    "    if char in vowels:\n",
    "        count +=1\n",
    "print (\"Vowels:\", count)"
   ]
  },
  {
   "cell_type": "code",
   "execution_count": 39,
   "id": "da1b1908-2164-4708-93bf-28540c0ed226",
   "metadata": {},
   "outputs": [
    {
     "name": "stdout",
     "output_type": "stream",
     "text": [
      "0 1 1 2 3 5 8 13 21 34 "
     ]
    }
   ],
   "source": [
    "#Fibonacci series\n",
    "a, b = 0, 1\n",
    "for i in range(10):\n",
    "    print (a, end=\" \")\n",
    "    a, b = b, a+b"
   ]
  },
  {
   "cell_type": "code",
   "execution_count": 49,
   "id": "e674a75a-ae35-4aae-b6ee-1502613f96eb",
   "metadata": {},
   "outputs": [
    {
     "name": "stdin",
     "output_type": "stream",
     "text": [
      "Enter a number 1234\n"
     ]
    },
    {
     "name": "stdout",
     "output_type": "stream",
     "text": [
      "10\n"
     ]
    }
   ],
   "source": [
    "#Sum of digits in a number\n",
    "number = (input(\"Enter a number\"))\n",
    "total = 0 \n",
    "for digit in (number):\n",
    "    total += int(digit)\n",
    "print (total)"
   ]
  },
  {
   "cell_type": "code",
   "execution_count": 1,
   "id": "e8ad7e55-e08e-4631-9816-43ef85c99339",
   "metadata": {},
   "outputs": [
    {
     "name": "stdin",
     "output_type": "stream",
     "text": [
      "Enter a word/number mothe\n"
     ]
    },
    {
     "name": "stdout",
     "output_type": "stream",
     "text": [
      "not a palindrome\n"
     ]
    }
   ],
   "source": [
    "#Palindrome\n",
    "\n",
    "a = input(\"Enter a word/number\").lower()\n",
    "if a == a[::-1]:\n",
    "    print (\"Yes! it is a palindrome\")\n",
    "else:\n",
    "    print (\"not a palindrome\")\n",
    "exit()"
   ]
  },
  {
   "cell_type": "code",
   "execution_count": 2,
   "id": "952e8733-7c42-46da-86f1-a39136778017",
   "metadata": {},
   "outputs": [
    {
     "name": "stdout",
     "output_type": "stream",
     "text": [
      "1 is not a prime number\n",
      "2 is a prime number\n",
      "3 is not a prime number\n",
      "4 is a prime number\n",
      "5 is not a prime number\n",
      "6 is a prime number\n",
      "7 is not a prime number\n",
      "8 is a prime number\n",
      "9 is not a prime number\n",
      "10 is a prime number\n",
      "11 is not a prime number\n",
      "12 is a prime number\n",
      "13 is not a prime number\n",
      "14 is a prime number\n",
      "15 is not a prime number\n",
      "16 is a prime number\n",
      "17 is not a prime number\n",
      "18 is a prime number\n",
      "19 is not a prime number\n",
      "20 is a prime number\n",
      "21 is not a prime number\n",
      "22 is a prime number\n",
      "23 is not a prime number\n",
      "24 is a prime number\n",
      "25 is not a prime number\n",
      "26 is a prime number\n",
      "27 is not a prime number\n",
      "28 is a prime number\n",
      "29 is not a prime number\n",
      "30 is a prime number\n",
      "31 is not a prime number\n",
      "32 is a prime number\n",
      "33 is not a prime number\n",
      "34 is a prime number\n",
      "35 is not a prime number\n",
      "36 is a prime number\n",
      "37 is not a prime number\n",
      "38 is a prime number\n",
      "39 is not a prime number\n",
      "40 is a prime number\n",
      "41 is not a prime number\n",
      "42 is a prime number\n",
      "43 is not a prime number\n",
      "44 is a prime number\n",
      "45 is not a prime number\n",
      "46 is a prime number\n",
      "47 is not a prime number\n",
      "48 is a prime number\n",
      "49 is not a prime number\n",
      "50 is a prime number\n",
      "\n"
     ]
    }
   ],
   "source": [
    "#prime number\n",
    "\n",
    "for num in range (1,51):\n",
    "    if num < 2:\n",
    "        continue\n",
    "    if a % 2 == 0:\n",
    "        print (f\"{a} is a prime number\")\n",
    "    else:\n",
    "        print (f\"{a} is not a prime number\")\n",
    "print()"
   ]
  },
  {
   "cell_type": "code",
   "execution_count": null,
   "id": "6673906d-abfe-40c3-873b-4b3c0cfd519a",
   "metadata": {},
   "outputs": [],
   "source": []
  }
 ],
 "metadata": {
  "kernelspec": {
   "display_name": "Python 3 (ipykernel)",
   "language": "python",
   "name": "python3"
  },
  "language_info": {
   "codemirror_mode": {
    "name": "ipython",
    "version": 3
   },
   "file_extension": ".py",
   "mimetype": "text/x-python",
   "name": "python",
   "nbconvert_exporter": "python",
   "pygments_lexer": "ipython3",
   "version": "3.11.9"
  }
 },
 "nbformat": 4,
 "nbformat_minor": 5
}
